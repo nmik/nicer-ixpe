{
 "cells": [
  {
   "cell_type": "code",
   "execution_count": 5,
   "id": "e17ef483",
   "metadata": {},
   "outputs": [],
   "source": [
    "import os\n",
    "import subprocess"
   ]
  },
  {
   "cell_type": "code",
   "execution_count": 6,
   "id": "f399db05",
   "metadata": {},
   "outputs": [],
   "source": [
    "#export HEADASNOQUERY=\n",
    "#export HEADASPROMPT=/dev/null"
   ]
  },
  {
   "cell_type": "code",
   "execution_count": 7,
   "id": "841abc7b",
   "metadata": {},
   "outputs": [],
   "source": [
    "#Set working directory\n",
    "os.chdir(\"/path/to/working/directory\")"
   ]
  },
  {
   "cell_type": "code",
   "execution_count": 27,
   "id": "6815f768",
   "metadata": {},
   "outputs": [],
   "source": [
    "#Define obsIDs to be analyzed\n",
    "obsids = ['1010100104','1010100105']\n",
    "outdir = '1010100100'\n",
    "mergeobs=1 #1=Yes, 0=No"
   ]
  },
  {
   "cell_type": "code",
   "execution_count": 28,
   "id": "a8a0b163",
   "metadata": {},
   "outputs": [],
   "source": [
    "#Make obsID list if user wishes to merge observations\n",
    "if mergeobs==0:\n",
    "    print(f\"ObsID:{obsids}\")\n",
    "elif mergeobs==1:\n",
    "    with open('obsids1.lis', 'w') as file:\n",
    "        file.write('\\n'.join(str(obsid) for obsid in obsids))\n",
    "else:\n",
    "    raise Exception(\"ERROR: Mergeobs is not 1 or 0.\")"
   ]
  },
  {
   "cell_type": "code",
   "execution_count": 35,
   "id": "57e4bc3f",
   "metadata": {
    "scrolled": true
   },
   "outputs": [
    {
     "name": "stdout",
     "output_type": "stream",
     "text": [
      "ObsID:['1010100104', '1010100105']\n",
      "ObsID:1010100104\n",
      "nicerl2 1010100104 clobber=YES\n",
      "ObsID:1010100105\n",
      "nicerl2 1010100105 clobber=YES\n"
     ]
    }
   ],
   "source": [
    "#Run nicerl2 on all obsIDs\n",
    "print(f\"ObsID:{obsids}\")\n",
    "for i in obsids:\n",
    "    print(f\"ObsID:{i}\")\n",
    "    os.system(f\"nicerl2 {i} clobber=YES\")"
   ]
  },
  {
   "cell_type": "code",
   "execution_count": 22,
   "id": "33d0a2df",
   "metadata": {},
   "outputs": [
    {
     "name": "stdout",
     "output_type": "stream",
     "text": [
      "['1010100104', '1010100105']\n",
      "Obs Merged\n"
     ]
    }
   ],
   "source": [
    "#Merge Observations if mergeobs is set to 1\n",
    "if mergeobs==0:\n",
    "    print(obsids)\n",
    "elif mergeobs==1:\n",
    "    print(obsids)\n",
    "    print(\"Observations Merged\")\n",
    "    os.system(f\"niobsmerge @obsids1.lis outdir=./{outdir} obsid={outdir}, clobber=YES\")"
   ]
  },
  {
   "cell_type": "code",
   "execution_count": 23,
   "id": "981d6f93",
   "metadata": {
    "scrolled": true
   },
   "outputs": [
    {
     "name": "stdout",
     "output_type": "stream",
     "text": [
      "nicerl3-spect 1.10\n",
      "--------------------------------------------------------\n",
      "   RA: 187.2779   Dec: 2.052406   [deg; J2000]\n",
      "   Create PHA ./1010100100/ni1010100100mpu7_sr3c50.pha\n",
      "     EXPOSURE: 1606\n",
      "   Create Background\n",
      "     3C50 ./1010100100/ni1010100100mpu7_bg3c50.pha\n",
      "     Modify PHA ./1010100100/ni1010100100mpu7_sr3c50.pha (3C50)\n",
      "     Create background file ./1010100100/ni1010100100mpu7_bg3c50.pha (3C50)\n",
      "     Create night background file ./1010100100/ni1010100100mpu7_bg3c50.pha_bkg_ngt.pi (3C50)\n",
      "   Create Target ARF ./1010100100/ni1010100100mpu73c50.arf\n",
      "   Create Sky ARF ./1010100100/ni1010100100mpu7_sk3c50.arf\n",
      "   Create RMF ./1010100100/ni1010100100mpu73c50.rmf\n",
      "   (updating GROUPING column of phafile)\n",
      "   Create Background\n",
      "     (previously created)\n",
      "   Create Load file ./1010100100/ni1010100100mpu7_load3c50.py\n",
      "   XSPEC plot(s) SKIPPED because outlang=python\n",
      "\n",
      "To use these products within pyXspec, type:\n",
      "from xspec import *\n",
      "exec(open('./1010100100/ni1010100100mpu7_load3c50.py').read())\n",
      "--------------------------------------------------------\n",
      "DONE\n",
      "nicerl3-spect 1.10\n",
      "--------------------------------------------------------\n",
      "   RA: 187.2779   Dec: 2.052406   [deg; J2000]\n",
      "   Create PHA ./1010100100/ni1010100100mpu7_srsco.pha\n",
      "     EXPOSURE: 1606\n",
      "   Create Target ARF ./1010100100/ni1010100100mpu7sco.arf\n",
      "   Create Sky ARF ./1010100100/ni1010100100mpu7_sksco.arf\n",
      "   Create RMF ./1010100100/ni1010100100mpu7sco.rmf\n",
      "   (updating GROUPING column of phafile)\n",
      "   Create Background\n",
      "     SCORPEON model ./1010100100/ni1010100100mpu7_bgsco.py\n",
      "     Create background script ./1010100100/ni1010100100mpu7_bgsco.py (SCORPEON)\n",
      "   Create Load file ./1010100100/ni1010100100mpu7_loadsco.py\n",
      "   XSPEC plot(s) SKIPPED because outlang=python\n",
      "\n",
      "To use these products within pyXspec, type:\n",
      "from xspec import *\n",
      "exec(open('./1010100100/ni1010100100mpu7_loadsco.py').read())\n",
      "--------------------------------------------------------\n",
      "DONE\n"
     ]
    }
   ],
   "source": [
    "#Run nicerl3-spect using both 3C50 and Scorpeon Background models\n",
    "if mergeobs==0:\n",
    "    for i in obsids:\n",
    "        os.system(f'nicerl3-spect {i}  mkfile=./{i}/auxil/ni{i}.mkf clfile=./{i}/xti/event_cl/ni{i}_0mpu7_cl.evt bkgmodeltype=3c50 suffix=3c50 outlang=PYTHON clobber=YES')\n",
    "        os.system(f'nicerl3-spect {i}  mkfile=./{i}/auxil/ni{i}.mkf clfile=./{i}/xti/event_cl/ni{i}_0mpu7_cl.evt bkgmodeltype=scorpeon suffix=sco outlang=PYTHON clobber=YES')\n",
    "elif mergeobs==1:\n",
    "    os.system(f'nicerl3-spect {outdir} ufafile=./{outdir}/ni{outdir}_0mpu7_ufa.evt mkfile=./{outdir}/ni{outdir}.mkf clfile=./{outdir}/ni{outdir}_0mpu7_cl.evt bkgmodeltype=3c50 suffix=3c50 outlang=PYTHON clobber=YES')\n",
    "    os.system(f'nicerl3-spect {outdir} ufafile=./{outdir}/ni{outdir}_0mpu7_ufa.evt mkfile=./{outdir}/ni{outdir}.mkf clfile=./{outdir}/ni{outdir}_0mpu7_cl.evt bkgmodeltype=scorpeon suffix=sco outlang=PYTHON clobber=YES')\n",
    "        "
   ]
  },
  {
   "cell_type": "code",
   "execution_count": null,
   "id": "4195f3b2",
   "metadata": {
    "scrolled": true
   },
   "outputs": [
    {
     "name": "stdout",
     "output_type": "stream",
     "text": [
      "nicerl3-lc 2.0\n",
      "--------------------------------------------------------\n",
      "   Create LC ./1010100100/ni1010100100mpu7_sr1to5.lc\n",
      "   Create Background\n",
      "     SCORPEON ./1010100100/ni1010100100mpu7_bg1to5.lc\n",
      "   (constant normalization 51.2904090881348)\n",
      "     Create background file ./1010100100/ni1010100100mpu7_bg1to5.lc (SCORPEON)\n",
      "   Append background to lcfile\n",
      "   Create plot(s)\n",
      "     ./1010100100/ni1010100100mpu7_lc1to5.png (png)\n",
      "   (missing ./1010100100/ni1010100100mpu7_lc1to5.png)\n",
      "WARNING: fplot failed to render one or more output plot files.\n",
      "This may be a configuration issue on your computer.  For example \n",
      "if you selected PNG output but do not have the libpng library, \n",
      "PNG output will fail. This is not necessarily an error.  \n",
      "You can try an alternate output format,\n",
      "for example:\n",
      "  nicerl3-lc ... plotfiles=./1010100100/ni1010100100mpu7_lc1to5.gif/gif  # (GIF format)\n",
      "  nicerl3-lc ... plotfiles=./1010100100/ni1010100100mpu7_lc1to5.ps/cps   # (color Postscript)\n",
      "--------------------------------------------------------\n",
      "DONE\n",
      "nicerl3-lc 2.0\n",
      "--------------------------------------------------------\n",
      "   Create LC ./1010100100/ni1010100100mpu7_sr3to7.lc\n",
      "   Create Background\n",
      "     SCORPEON ./1010100100/ni1010100100mpu7_bg3to7.lc\n",
      "   (constant normalization 51.2904090881348)\n",
      "     Create background file ./1010100100/ni1010100100mpu7_bg3to7.lc (SCORPEON)\n",
      "   Append background to lcfile\n",
      "   Create plot(s)\n",
      "     ./1010100100/ni1010100100mpu7_lc3to7.png (png)\n",
      "   (missing ./1010100100/ni1010100100mpu7_lc3to7.png)\n",
      "WARNING: fplot failed to render one or more output plot files.\n",
      "This may be a configuration issue on your computer.  For example \n",
      "if you selected PNG output but do not have the libpng library, \n",
      "PNG output will fail. This is not necessarily an error.  \n",
      "You can try an alternate output format,\n",
      "for example:\n",
      "  nicerl3-lc ... plotfiles=./1010100100/ni1010100100mpu7_lc3to7.gif/gif  # (GIF format)\n",
      "  nicerl3-lc ... plotfiles=./1010100100/ni1010100100mpu7_lc3to7.ps/cps   # (color Postscript)\n",
      "--------------------------------------------------------\n",
      "DONE\n"
     ]
    }
   ],
   "source": [
    "#Run nicerl3-lc to generate a lightcurve (and background lightcurve) in the 1 to 5 and 3 to 7 keV energy bands\n",
    "if mergeobs==0:\n",
    "    for i in obsids:\n",
    "        os.system(f'nicerl3-lc {i}  mkfile=./{i}/auxil/ni{i}.mkf clfile=./{i}/xti/event_cl/ni{i}_0mpu7_cl.evt skyarffile=./{i}/xti/event_cl/ni{i}mpu7_sksco.arf rmffile=./{i}/xti/event_cl/ni{i}mpu7sco.rmf 100-500 300.0 suffix=1to5 bkgmodeltype=scorpeon clobber=YES')\n",
    "        os.system(f'nicerl3-lc {i}  mkfile=./{i}/auxil/ni{i}.mkf clfile=./{i}/xti/event_cl/ni{i}_0mpu7_cl.evt skyarffile=./{i}/xti/event_cl/ni{i}mpu7_sksco.arf rmffile=./{i}/xti/event_cl/ni{i}mpu7sco.rmf 300-700 300.0 suffix=3to7 bkgmodeltype=scorpeon clobber=YES')\n",
    "elif mergeobs==1:\n",
    "    os.system(f'nicerl3-lc {outdir} ufafile=./{outdir}/ni{outdir}_0mpu7_ufa.evt mkfile=./{outdir}/ni{outdir}.mkf clfile=./{outdir}/ni{outdir}_0mpu7_cl.evt skyarffile=./{outdir}/ni{outdir}mpu7_sksco.arf rmffile=./{outdir}/ni{outdir}mpu7sco.rmf 100-500 300.0 bkgmodeltype=scorpeon suffix=1to5 clobber=YES')\n",
    "    os.system(f'nicerl3-lc {outdir} ufafile=./{outdir}/ni{outdir}_0mpu7_ufa.evt mkfile=./{outdir}/ni{outdir}.mkf clfile=./{outdir}/ni{outdir}_0mpu7_cl.evt skyarffile=./{outdir}/ni{outdir}mpu7_sksco.arf rmffile=./{outdir}/ni{outdir}mpu7sco.rmf 300-700 300.0 bkgmodeltype=scorpeon suffix=3to7 clobber=YES')\n",
    "        "
   ]
  },
  {
   "cell_type": "code",
   "execution_count": null,
   "id": "9ac070a7",
   "metadata": {},
   "outputs": [],
   "source": []
  },
  {
   "cell_type": "code",
   "execution_count": null,
   "id": "20607f96",
   "metadata": {},
   "outputs": [],
   "source": []
  },
  {
   "cell_type": "code",
   "execution_count": null,
   "id": "f6eec1ea",
   "metadata": {},
   "outputs": [],
   "source": []
  },
  {
   "cell_type": "code",
   "execution_count": null,
   "id": "961b7351",
   "metadata": {},
   "outputs": [],
   "source": []
  }
 ],
 "metadata": {
  "kernelspec": {
   "display_name": "Python 3 (ipykernel)",
   "language": "python",
   "name": "python3"
  },
  "language_info": {
   "codemirror_mode": {
    "name": "ipython",
    "version": 3
   },
   "file_extension": ".py",
   "mimetype": "text/x-python",
   "name": "python",
   "nbconvert_exporter": "python",
   "pygments_lexer": "ipython3",
   "version": "3.11.5"
  }
 },
 "nbformat": 4,
 "nbformat_minor": 5
}
