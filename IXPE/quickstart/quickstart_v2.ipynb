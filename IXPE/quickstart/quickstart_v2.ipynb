{
 "cells": [
  {
   "cell_type": "markdown",
   "id": "3b7cb97a",
   "metadata": {},
   "source": [
    "# Getting started with IXPE data \n",
    "\n",
    "## 1. Introduction\n",
    "\n",
    "This notebook is a tutorial on accessing IXPE data on Sciserver and getting started with analysing them. You will learn to download the data, extract the source and background regions and perform spectro-polarimetric fits.\n",
    "\n",
    "It also highly recommended that new users read the IXPE Quick Start Guide ([linked here](https://heasarc.gsfc.nasa.gov/docs/ixpe/analysis/IXPE_quickstart.pdf)) and the recommended practices for statistical treatment of IXPE results [here](https://heasarcdev.gsfc.nasa.gov/docs/ixpe/analysis/IXPE_Stats-Advice.pdf).\n",
    "\n",
    "<div style='color: #333; background: #ffffdf; padding:20px; border: 4px solid #fadbac'>\n",
    "<b>Running On Sciserver:</b><br>\n",
    "When running this notebook inside Sciserver, make sure the HEASARC data drive is mounted when initializing the Sciserver compute container. <a href='https://heasarc.gsfc.nasa.gov/docs/sciserver/'>See details here</a>.\n",
    "<br>\n",
    "Also, this notebook requires <code>heasoftpy</code>, which is available in the (heasoft) conda environment. You should see (heasoft) at the top right of the notebook. If not, click there and select it.\n",
    "\n",
    "<b>Running Outside Sciserver:</b><br>\n",
    "If running outside Sciserver, some changes will be needed, including:<br>\n",
    "&bull; Make sure heasoftpy and heasoft are installed (<a href='https://heasarc.gsfc.nasa.gov/docs/software/lheasoft/'>Download and Install heasoft</a>).<br>\n",
    "&bull; Unlike on Sciserver, where the data is available locally, you will need to download the data to your machine.<br>\n",
    "</div>"
   ]
  },
  {
   "cell_type": "markdown",
   "id": "3466f3d1",
   "metadata": {},
   "source": [
    "## 2. Module Imports\n",
    "We need the following python modules:\n",
    "\n",
    "<div style='color: #333; background: #ffffdf; padding:20px; border: 4px solid #fadbac'>\n",
    "In this example, reprocessing the data is not required. Instead the level 2 data products are sufficient. If you need to reprocess the data, the IXPE tools are available with <code>from heasoftpy import ixpe</code>.\n",
    "</div>"
   ]
  },
  {
   "cell_type": "code",
   "execution_count": 1,
   "id": "dbb93e56",
   "metadata": {},
   "outputs": [],
   "source": [
    "import glob\n",
    "import matplotlib.pyplot as plt\n",
    "import heasoftpy as hsp\n",
    "from heasoftpy import ixpe\n",
    "import xspec"
   ]
  },
  {
   "cell_type": "markdown",
   "id": "269ebf94",
   "metadata": {},
   "source": [
    "## 3. Finding the Data\n",
    "\n",
    "On Sciserver, all the HEASARC data ire mounted locally under /FTP/, so once we have the path to the data, we can directly access it without the need to download it.\n",
    "\n",
    "For our exploratory data analysis, we will use an observation of the blazar Mrk 501 (ObsID 01004701).\n",
    "\n",
    "For running this locally, please download the data (e.g by using the wget command)\n",
    "\n",
    "```\n",
    "wget -q -nH --no-check-certificate --cut-dirs=5 -r -l0 -c -N -np -R 'index*' -erobots=off --retr-symlinks https://heasarc.gsfc.nasa.gov/FTP/ixpe/data/obs/01//01004701/\n",
    "```"
   ]
  },
  {
   "cell_type": "code",
   "execution_count": 2,
   "id": "44f09891",
   "metadata": {},
   "outputs": [],
   "source": [
    "#data_path = \"/FTP/ixpe/data/obs/01/01004701\" ###this is the path on Sciserver\n",
    "data_path = \"./01004701\""
   ]
  },
  {
   "cell_type": "markdown",
   "id": "3c7a8f21",
   "metadata": {},
   "source": [
    "Check the contents of this folder\n",
    "\n",
    "It should contain the standard IXPE data files, which include:\n",
    "   - `event_l1` and `event_l2`: level 1 and 2 event files, respectively.\n",
    "   - `auxil`: auxiliary data files, such as exposure maps.\n",
    "   - `hk`: house-keeping data such as orbit files etc.\n",
    "    \n",
    "For a complete description of data formats of the level 1, level 2 and calibration data products, see the support documentation on the [IXPE Website](https://heasarc.gsfc.nasa.gov/docs/ixpe/analysis/#supportdoc)"
   ]
  },
  {
   "cell_type": "code",
   "execution_count": 3,
   "id": "6cc768af",
   "metadata": {},
   "outputs": [
    {
     "data": {
      "text/plain": [
       "['./01004701/hk',\n",
       " './01004701/auxil',\n",
       " './01004701/event_l1',\n",
       " './01004701/event_l2']"
      ]
     },
     "execution_count": 3,
     "metadata": {},
     "output_type": "execute_result"
    }
   ],
   "source": [
    "glob.glob(f'{data_path}/*')"
   ]
  },
  {
   "cell_type": "markdown",
   "id": "e30ed15e",
   "metadata": {},
   "source": [
    "## 4. Exploring The Data\n",
    "To Analyze the data within the notebook, we use heasoftpy.\n",
    "\n",
    "In the folder for each observation, check for a README file. This file is included with a description of known issues (if any) with the processing for that observation.\n",
    "\n",
    "In this IXPE example, it is not necessary to reprocess the data. Instead the level 2 data products can be analysed directly."
   ]
  },
  {
   "cell_type": "code",
   "execution_count": 4,
   "id": "488eed2d",
   "metadata": {},
   "outputs": [
    {
     "data": {
      "text/plain": [
       "['./01004701/event_l2/ixpe01004701_det3_evt2_v01.fits.gz',\n",
       " './01004701/event_l2/ixpe01004701_det2_evt2_v01.fits.gz',\n",
       " './01004701/event_l2/ixpe01004701_det1_evt2_v01.fits.gz']"
      ]
     },
     "execution_count": 4,
     "metadata": {},
     "output_type": "execute_result"
    }
   ],
   "source": [
    "# set some input\n",
    "indir  = data_path\n",
    "obsid  = indir.split('/')[-1] \n",
    "\n",
    "filelist = glob.glob(f'{indir}/event_l2/*')\n",
    "filelist"
   ]
  },
  {
   "cell_type": "markdown",
   "id": "5a31abbf",
   "metadata": {},
   "source": [
    "We see that there are three files: one event file for each detector. We can examine the structure of these level 2 files."
   ]
  },
  {
   "cell_type": "code",
   "execution_count": 5,
   "id": "24be0d67",
   "metadata": {},
   "outputs": [
    {
     "name": "stdout",
     "output_type": "stream",
     "text": [
      "  No. Type     EXTNAME      BITPIX Dimensions(columns)      PCOUNT  GCOUNT\n",
      " \n",
      "   0  PRIMARY                  8     0                           0    1\n",
      "   1  BINTABLE EVENTS          8     48(10) 101073               0    1\n",
      " \n",
      "      Column Name                Format     Dims       Units     TLMIN  TLMAX\n",
      "      1 TRG_ID                     J\n",
      "      2 TIME                       D                   s\n",
      "      3 STATUS                     16X\n",
      "      4 STATUS2                    16X\n",
      "      5 PI                         J                   chan          0      374\n",
      "      6 W_MOM                      E\n",
      "      7 X                          E                   pixel         1      600\n",
      "      8 Y                          E                   pixel         1      600\n",
      "      9 Q                          D\n",
      "     10 U                          D\n",
      " \n",
      "   2  BINTABLE GTI             8     16(2) 95                    0    1\n",
      " \n",
      "      Column Name                Format     Dims       Units     TLMIN  TLMAX\n",
      "      1 START                      D\n",
      "      2 STOP                       D\n",
      " \n",
      "\n"
     ]
    }
   ],
   "source": [
    "det3_fits = filelist[0]\n",
    "det2_fits = filelist[1]\n",
    "det1_fits = filelist[2]\n",
    "\n",
    "#print the file structure for event 1 detector file\n",
    "out = hsp.fstruct(infile=det1_fits).stdout\n",
    "print(out)"
   ]
  },
  {
   "cell_type": "markdown",
   "id": "5291bc0b",
   "metadata": {},
   "source": [
    "## 5. Extracting the spectro polarimetric data \n",
    "\n",
    "### 5.1 Defining the Source and Background Regions\n",
    "\n",
    "To obtain the source and background spectra from the Level 2 files, we need to define a source region and background region for the extraction. This can also be done using `ds9`. \n",
    "\n",
    "For the source, we extract a 60\" circle centered on the source. For the background region, we use an annulus with inner radius of 132.000\" and outer radius 252.000\"\n",
    "\n",
    "The region files should be independently defined for each telescope; in this example, the source location has the same celestial coordinates within 0.25\" for all three detectors so a single source and a single background region can be used."
   ]
  },
  {
   "cell_type": "code",
   "execution_count": 31,
   "id": "d50b83a2",
   "metadata": {},
   "outputs": [],
   "source": [
    "f = open(\"src.reg\", \"w\")\n",
    "f.write('circle(16:53:51.766,+39:45:44.41,60.000\")')\n",
    "f.close()\n",
    "\n",
    "f = open(\"bkg.reg\", \"w\")\n",
    "f.write('annulus(16:53:51.766,+39:45:44.41,132.000\",252.000\")')\n",
    "f.close()"
   ]
  },
  {
   "cell_type": "markdown",
   "id": "075597f5",
   "metadata": {},
   "source": [
    "### 5.2 Running the extractor tools\n",
    "\n",
    "The `extractor` tool from FTOOLS, can now be used to extract I,Q and U spectra from IXPE Level 2\n",
    "event lists as shown below. \n",
    "\n",
    "The help for the tool can be displayed using the `hsp.extractor?` command. \n",
    "\n",
    "First, we extract the source I,Q and U spectra "
   ]
  },
  {
   "cell_type": "code",
   "execution_count": 6,
   "id": "c33e4cda",
   "metadata": {},
   "outputs": [],
   "source": [
    "#Extract source I,Q and U spectra for DU1\n",
    "out = hsp.extractor(filename=det1_fits, binlc=10.0, eventsout='NONE', imgfile='NONE',fitsbinlc='NONE', \n",
    "              phafile= 'ixpe_det1_src_.pha',regionfile='src.reg', timefile='NONE', stokes='NEFF', \n",
    "              polwcol='W_MOM', tcol='TIME', ecol='PI', xcolf='X', xcolh='X',ycolf='Y', ycolh='Y')\n",
    "if out.returncode != 0:\n",
    "    print(out.stdout)\n",
    "    raise Exception('extractor for det1 failed!')\n",
    "\n",
    "#Extract source I,Q and U spectra for DU2\n",
    "out = hsp.extractor(filename=det2_fits, binlc=10.0, eventsout='NONE', imgfile='NONE',fitsbinlc='NONE', \n",
    "              phafile= 'ixpe_det2_src_.pha',regionfile='src.reg', timefile='NONE', stokes='NEFF', \n",
    "              polwcol='W_MOM', tcol='TIME', ecol='PI', xcolf='X', xcolh='X',ycolf='Y', ycolh='Y')\n",
    "if out.returncode != 0:\n",
    "    print(out.stdout)\n",
    "    raise Exception('extractor for det2 failed!')\n",
    "\n",
    "#Extract source I,Q and U spectra for DU3\n",
    "out = hsp.extractor(filename=det3_fits, binlc=10.0, eventsout='NONE', imgfile='NONE',fitsbinlc='NONE', \n",
    "              phafile= 'ixpe_det3_src_.pha',regionfile='src.reg', timefile='NONE', stokes='NEFF', \n",
    "              polwcol='W_MOM', tcol='TIME', ecol='PI', xcolf='X', xcolh='X',ycolf='Y', ycolh='Y')\n",
    "if out.returncode != 0:\n",
    "    print(out.stdout)\n",
    "    raise Exception('extractor for det3 failed!')\n"
   ]
  },
  {
   "cell_type": "markdown",
   "id": "0652e891",
   "metadata": {},
   "source": [
    "Now repeat the process to extract background I,Q and U spectra"
   ]
  },
  {
   "cell_type": "code",
   "execution_count": 7,
   "id": "c4710d90",
   "metadata": {},
   "outputs": [],
   "source": [
    "#Extract background I,Q and U spectra for DU1\n",
    "out = hsp.extractor(filename=det1_fits, binlc=10.0, eventsout='NONE', imgfile='NONE',fitsbinlc='NONE', \n",
    "              phafile= 'ixpe_det1_bkg_.pha',regionfile='bkg.reg', timefile='NONE', stokes='NEFF', \n",
    "              polwcol='W_MOM', tcol='TIME', ecol='PI', xcolf='X', xcolh='X',ycolf='Y', ycolh='Y')\n",
    "if out.returncode != 0:\n",
    "    print(out.stdout)\n",
    "    raise Exception('extractor for det1 failed!')\n",
    "\n",
    "#Extract background I,Q and U spectra for DU2\n",
    "out = hsp.extractor(filename=det2_fits, binlc=10.0, eventsout='NONE', imgfile='NONE',fitsbinlc='NONE', \n",
    "              phafile= 'ixpe_det2_bkg_.pha',regionfile='bkg.reg', timefile='NONE', stokes='NEFF', \n",
    "              polwcol='W_MOM', tcol='TIME', ecol='PI', xcolf='X', xcolh='X',ycolf='Y', ycolh='Y')\n",
    "if out.returncode != 0:\n",
    "    print(out.stdout)\n",
    "    raise Exception('extractor for det2 failed!')\n",
    "\n",
    "#Extract background I,Q and U spectra for DU3\n",
    "out = hsp.extractor(filename=det3_fits, binlc=10.0, eventsout='NONE', imgfile='NONE',fitsbinlc='NONE', \n",
    "              phafile= 'ixpe_det3_bkg_.pha',regionfile='bkg.reg', timefile='NONE', stokes='NEFF', \n",
    "              polwcol='W_MOM', tcol='TIME', ecol='PI', xcolf='X', xcolh='X',ycolf='Y', ycolh='Y')\n",
    "if out.returncode != 0:\n",
    "    print(out.stdout)\n",
    "    raise Exception('extractor for det3 failed!')"
   ]
  },
  {
   "cell_type": "markdown",
   "id": "8804f61e",
   "metadata": {},
   "source": [
    "### 5.3 Obtaining the Response Files\n",
    "For the I spectra, you will need to include the RMF (Response Matrix File), and the ARF (Ancillary Response File).\n",
    "\n",
    "For the Q and U spectra, you will need to include the RMF and MRF (Modulation Response File). The MRF is defined by the product of the energy-dependent modulation factor, \n",
    "(E) and the ARF.\n",
    "\n",
    "The location of the calibration files can be obtained through the hsp.quzcif tool. Type in hsp.quzcif? to get more information on this function.\n",
    "\n",
    "Note that the output of the hsp.quzcif gives the path to more than one file. This is because there are 3 sets of response files, corresponding to the different weighting schemes.\n",
    "\n",
    "For the 'NEFF' weighting, use 'alpha07_vv'.\n",
    "For the 'SIMPLE' weighting, use 'alpha075simple_vv'.\n",
    "For the 'UNWEIGHTED' version, use '20170101_vv'.\n",
    "Where vv is the version number of the response files. The use of the latest version of the files is recommended.\n",
    "\n",
    "In following, we use vv = 02 for the RMF."
   ]
  },
  {
   "cell_type": "code",
   "execution_count": 9,
   "id": "49d6c7fb",
   "metadata": {},
   "outputs": [],
   "source": [
    "hsp.quzcif?"
   ]
  },
  {
   "cell_type": "code",
   "execution_count": 8,
   "id": "a39e7101",
   "metadata": {},
   "outputs": [],
   "source": [
    "# get the on-axis rmf\n",
    "res = hsp.quzcif(mission='ixpe', instrument='gpd',detector='DU1',\n",
    "             filter='-', date='-', time='-',expr='-',codename='MATRIX')\n",
    "\n",
    "rmf1 = [x.split()[0] for x in res.output if 'alpha075_02'  in x][0]\n",
    "\n",
    "res = hsp.quzcif(mission='ixpe', instrument='gpd',detector='DU2',\n",
    "             filter='-', date='-', time='-',expr='-',codename='MATRIX')\n",
    "\n",
    "rmf2 = [x.split()[0] for x in res.output if 'alpha075_02'  in x][0]\n",
    "\n",
    "res = hsp.quzcif(mission='ixpe', instrument='gpd',detector='DU3',\n",
    "             filter='-', date='-', time='-',expr='-',codename='MATRIX')\n",
    "\n",
    "rmf3 = [x.split()[0] for x in res.output if 'alpha075_02'  in x][0]"
   ]
  },
  {
   "cell_type": "markdown",
   "id": "00b9bbd5",
   "metadata": {},
   "source": [
    "#### 5.31 Generating ARF and MRF using _ixpecalcarf_\n",
    "\n",
    "For the Q and U spectra, you will need to include the RMF and MRF (Modulation Response File). The MRF is defined by the product of the energy-dependent modulation factor, $\\mu$(E) and the ARF.\n",
    "\n",
    "These files can be generated for each observation using the _ixpecalcarf_ tool. _ixpecalcarf_ correctly accounts for off-axis vignetting and source extraction radius, and the use of this tool is recommended over utilizing arf and mrf files from caldb.  \n",
    "\n",
    "The spacecraft attitude file, part of the engineering housekeeping file suite retrievable from the “hk” subdirectory in the data archive is required to run this. The resulting Response File is appropriate for an observation in which IXPE has been pointed so that the sky location of the target is at the center of the detector, and a 1.0 source extraction region radius (radius=1.0), and NEFF weighting method (weight=1) have been used to extract the spectrum file. (Other weighting options are weight=0 for UNWEIGHTED and weight=2 for SIMPLE)\n",
    "\n",
    "The generated MRF files can be used for both the Q and U spectra"
   ]
  },
  {
   "cell_type": "code",
   "execution_count": 35,
   "id": "8ba18afb",
   "metadata": {},
   "outputs": [],
   "source": [
    "#specify attitude files\n",
    "\n",
    "attfile_d1 = glob.glob(f'{data_path}/hk/ixpe*_det1_att_v*.fits.gz')\n",
    "attfile_d2 = glob.glob(f'{data_path}/hk/ixpe*_det2_att_v*.fits.gz')\n",
    "attfile_d3 = glob.glob(f'{data_path}/hk/ixpe*_det3_att_v*.fits.gz')"
   ]
  },
  {
   "cell_type": "code",
   "execution_count": 29,
   "id": "32b49682",
   "metadata": {},
   "outputs": [
    {
     "data": {
      "text/plain": [
       "---------------------\n",
       ":: Execution Result ::\n",
       "---------------------\n",
       "> Return Code: 1\n",
       "> Output:\n",
       "Error: Did not find a valid UVFILT file from the CALDB. The file 'https://heasarc.gsfc.nasa.gov/FTP/caldb/data/ixpe/gpd/bcf/uvfilt/ixpe_d3_20170101_uvfilt_01.fits' does not exist.\n",
       "\n",
       "> Parameters:\n",
       "\tevtfile   : data/obs/01/01004701/event_l2/ixpe01004701_det3_evt2_v01.fits.gz\n",
       "\tattfile   : data/obs/01/01004701/hk/ixpe01004701_det1_att_v01.fits.gz\n",
       "\tresptype  : mrf\n",
       "\tspecfile  : none\n",
       "\tvignfile  : caldb\n",
       "\treeffile  : caldb\n",
       "\tuvfilt    : caldb\n",
       "\tgrfilt    : caldb\n",
       "\taxeffa    : caldb\n",
       "\tmodfact   : caldb\n",
       "\tqefile    : caldb\n",
       "\tradius    : 1.0\n",
       "\toffarcmin : -1.0\n",
       "\tweight    : 1\n",
       "\tdetfilter : 0\n",
       "\tarfin     : \n",
       "\tox        : 0.0\n",
       "\toy        : 0.0\n",
       "\tarfout    : ixpe_det1_src.mrf\n",
       "\tclobber   : yes\n",
       "\tmode      : ql"
      ]
     },
     "execution_count": 29,
     "metadata": {},
     "output_type": "execute_result"
    }
   ],
   "source": [
    "# generate the mrf for Q and U spectra\n",
    "ixpe.ixpecalcarf(evtfile=det1_fits , attfile=attfile_d1[0], specfile='none',\n",
    "                 radius=1.0, arfout='ixpe_det1_src.mrf', weight=1, resptype='mrf', clobber='yes')\n",
    "\n",
    "mrf1 = 'ixpe_det1_src.mrf'\n",
    "\n",
    "ixpe.ixpecalcarf(evtfile=det2_fits , attfile=attfile_d2[0], specfile='none',\n",
    "                 radius=1.0, arfout='ixpe_det2_src.mrf', weight=1, resptype='mrf', clobber='yes')\n",
    "\n",
    "mrf2 = 'ixpe_det2_src.mrf'\n",
    "\n",
    "ixpe.ixpecalcarf(evtfile=det3_fits , attfile=attfile_d3[0], specfile='none',\n",
    "                 radius=1.0, arfout='ixpe_det3_src.mrf', weight=1, resptype='mrf', clobber='yes')\n",
    "\n",
    "mrf3 = 'ixpe_det3_src.mrf'"
   ]
  },
  {
   "cell_type": "markdown",
   "id": "9a31b6ea",
   "metadata": {},
   "source": [
    "A similar ixpecalcarf command can be used to generate an ARF for Stokes I spectra by setting resptype=arf.\n",
    "\n",
    "Note that, in a typical XSPEC implementation, properly-scaled background spectra are simply subtracted from the observed spectrum to obtain the source spectrum so that instrument response files are not needed for the background spectra."
   ]
  },
  {
   "cell_type": "code",
   "execution_count": 15,
   "id": "51dec015",
   "metadata": {},
   "outputs": [
    {
     "data": {
      "text/plain": [
       "---------------------\n",
       ":: Execution Result ::\n",
       "---------------------\n",
       "> Return Code: 1\n",
       "> Output:\n",
       "Error: Did not find a valid UVFILT file from the CALDB. The file 'https://heasarc.gsfc.nasa.gov/FTP/caldb/data/ixpe/gpd/bcf/uvfilt/ixpe_d1_20170101_uvfilt_01.fits' does not exist.\n",
       "\n",
       "> Parameters:\n",
       "\tevtfile   : data/obs/01/01004701/event_l2/ixpe01004701_det1_evt2_v01.fits.gz\n",
       "\tattfile   : data/obs/01/01004701/hk/ixpe01004701_det1_att_v01.fits.gz\n",
       "\tresptype  : arf\n",
       "\tspecfile  : none\n",
       "\tvignfile  : caldb\n",
       "\treeffile  : caldb\n",
       "\tuvfilt    : caldb\n",
       "\tgrfilt    : caldb\n",
       "\taxeffa    : caldb\n",
       "\tmodfact   : caldb\n",
       "\tqefile    : caldb\n",
       "\tradius    : 1.0\n",
       "\toffarcmin : -1.0\n",
       "\tweight    : 1\n",
       "\tdetfilter : 0\n",
       "\tarfin     : \n",
       "\tox        : 0.0\n",
       "\toy        : 0.0\n",
       "\tarfout    : ixpe_det1_src.arf\n",
       "\tclobber   : no\n",
       "\tmode      : ql"
      ]
     },
     "execution_count": 15,
     "metadata": {},
     "output_type": "execute_result"
    }
   ],
   "source": [
    "# generate the arf for I spectra\n",
    "\n",
    "ixpe.ixpecalcarf(evtfile=det1_fits , attfile=attfile_d1[0], specfile='none',\n",
    "                 radius=1.0, arfout='ixpe_det1_src.arf', weight=1, resptype='arf', clobber='yes')\n",
    "\n",
    "arf1 = 'ixpe_det1_src.arf'\n",
    "\n",
    "ixpe.ixpecalcarf(evtfile=det2_fits , attfile=attfile_d2[0], specfile='none',\n",
    "                 radius=1.0, arfout='ixpe_det2_src.arf', weight=1, resptype='arf', clobber='yes')\n",
    "\n",
    "arf2 = 'ixpe_det2_src.arf'\n",
    "\n",
    "ixpe.ixpecalcarf(evtfile=det3_fits , attfile=attfile_d3[0], specfile='none',\n",
    "                 radius=1.0, arfout='ixpe_det3_src.arf', weight=1, resptype='arf', clobber='yes')\n",
    "\n",
    "arf3 = 'ixpe_det3_src.arf'"
   ]
  },
  {
   "cell_type": "markdown",
   "id": "380a8551",
   "metadata": {},
   "source": [
    "### 5.4 Load data into PyXSPEC and start fitting "
   ]
  },
  {
   "cell_type": "code",
   "execution_count": 19,
   "id": "bc8c92be",
   "metadata": {},
   "outputs": [
    {
     "name": "stdout",
     "output_type": "stream",
     "text": [
      "\n",
      "1 spectrum  in use\n",
      " \n",
      "Spectral Data File: ixpe_det1_src_I.pha  Spectrum 1\n",
      "Net count rate (cts/s) for Spectrum:1  3.744e-01 +/- 1.960e-03\n",
      " Assigned to Data Group 1 and Plot Group 1\n",
      "  Noticed Channels:  1-375\n",
      "  Telescope: IXPE Instrument: GPD  Channel Type: PI\n",
      "  Exposure Time: 9.782e+04 sec\n",
      "  Filtering Keys: \n",
      "    Stokes: 0\n",
      " Using fit statistic: chi\n",
      " No response loaded.\n",
      "\n",
      "***Warning!  One or more spectra are missing responses,\n",
      "               and are not suitable for fit.\n",
      "\n",
      "Spectrum #: 1 replaced \n",
      "\n",
      "1 spectrum  in use\n",
      " \n",
      "Spectral Data File: ixpe_det1_src_I.pha  Spectrum 1\n",
      "Net count rate (cts/s) for Spectrum:1  3.744e-01 +/- 1.960e-03\n",
      " Assigned to Data Group 1 and Plot Group 1\n",
      "  Noticed Channels:  1-375\n",
      "  Telescope: IXPE Instrument: GPD  Channel Type: PI\n",
      "  Exposure Time: 9.782e+04 sec\n",
      "  Filtering Keys: \n",
      "    Stokes: 0\n",
      " Using fit statistic: chi\n",
      " No response loaded.\n",
      "\n",
      "***Warning!  One or more spectra are missing responses,\n",
      "               and are not suitable for fit.\n",
      "New filename ( \"none\" or \"/*\" to return to the XSPEC prompt): No such file: .rsp\n",
      "New filename ( \"none\" or \"/*\" to return to the XSPEC prompt): No such file: .rsp\n",
      "New filename ( \"none\" or \"/*\" to return to the XSPEC prompt): No such file: .rsp\n",
      "Spectrum 1 has no response for source 1\n"
     ]
    },
    {
     "name": "stderr",
     "output_type": "stream",
     "text": [
      "Error: cannot read response file https://heasarc.gsfc.nasa.gov/FTP/caldb/data/ixpe/gpd/cpf/rmf/ixpe_d1_20170101_alpha075_02.rmf\n",
      "terminated at user request\n"
     ]
    },
    {
     "ename": "Exception",
     "evalue": "Error: No response is assigned to source 1 for spectrum 1",
     "output_type": "error",
     "traceback": [
      "\u001b[0;31m---------------------------------------------------------------------------\u001b[0m",
      "\u001b[0;31mException\u001b[0m                                 Traceback (most recent call last)",
      "Cell \u001b[0;32mIn[19], line 18\u001b[0m\n\u001b[1;32m     16\u001b[0m \u001b[38;5;66;03m# #Load response and background files\u001b[39;00m\n\u001b[1;32m     17\u001b[0m s\u001b[38;5;241m.\u001b[39mresponse \u001b[38;5;241m=\u001b[39m rmf_file\n\u001b[0;32m---> 18\u001b[0m \u001b[43ms\u001b[49m\u001b[38;5;241;43m.\u001b[39;49m\u001b[43mresponse\u001b[49m\u001b[38;5;241m.\u001b[39marf \u001b[38;5;241m=\u001b[39m arf_file\n\u001b[1;32m     19\u001b[0m s\u001b[38;5;241m.\u001b[39mbackground \u001b[38;5;241m=\u001b[39m \u001b[38;5;124m'\u001b[39m\u001b[38;5;124mixpe_det\u001b[39m\u001b[38;5;132;01m%i\u001b[39;00m\u001b[38;5;124m_bkg_I.pha\u001b[39m\u001b[38;5;124m'\u001b[39m\u001b[38;5;241m%\u001b[39mdu\n\u001b[1;32m     21\u001b[0m \u001b[38;5;66;03m#Load the Q data\u001b[39;00m\n",
      "File \u001b[0;32m~/software/heasoft-6.33.2/aarch64-apple-darwin22.6.0/lib/python/xspec/spectrum.py:501\u001b[0m, in \u001b[0;36mSpectrum._getResponse\u001b[0;34m(self)\u001b[0m\n\u001b[1;32m    499\u001b[0m     err\u001b[38;5;241m=\u001b[39m\u001b[38;5;124m\"\u001b[39m\u001b[38;5;124mError: No response is assigned to source 1 for spectrum \u001b[39m\u001b[38;5;124m\"\u001b[39m\n\u001b[1;32m    500\u001b[0m     err \u001b[38;5;241m+\u001b[39m\u001b[38;5;241m=\u001b[39m \u001b[38;5;28mstr\u001b[39m(specNum)\n\u001b[0;32m--> 501\u001b[0m     \u001b[38;5;28;01mraise\u001b[39;00m \u001b[38;5;167;01mException\u001b[39;00m(err)\n\u001b[1;32m    502\u001b[0m \u001b[38;5;28;01mreturn\u001b[39;00m Response(\u001b[38;5;28mself\u001b[39m\u001b[38;5;241m.\u001b[39m__handle,resp)\n",
      "\u001b[0;31mException\u001b[0m: Error: No response is assigned to source 1 for spectrum 1"
     ]
    }
   ],
   "source": [
    "rmf_list = [rmf1,rmf2,rmf3]\n",
    "mrf_list = [mrf1,mrf2,mrf3]\n",
    "arf_list = [arf1,arf2,arf3]\n",
    "du_list = [1,2,3]\n",
    "\n",
    "xspec.AllData.clear()\n",
    "\n",
    "x=0 #factor to get the spectrum numbering right \n",
    "for (du, rmf_file, mrf_file, arf_file) in zip(du_list, rmf_list, mrf_list, arf_list):\n",
    "\n",
    "    #Load the I data\n",
    "    xspec.AllData(\"%i:%i ixpe_det%i_src_I.pha\"%(du, du+x, du))\n",
    "    xspec.AllData(f\"{du}:{du+x} ixpe_det{du}_src_I.pha\")\n",
    "    s = xspec.AllData(du+x)\n",
    "    \n",
    "    # #Load response and background files\n",
    "    s.response = rmf_file\n",
    "    s.response.arf = arf_file\n",
    "    s.background = 'ixpe_det%i_bkg_I.pha'%du\n",
    "    \n",
    "    #Load the Q data\n",
    "    xspec.AllData(\"%i:%i ixpe_det%i_src_Q.pha\"%(du, du+x+1, du))\n",
    "    s = xspec.AllData(du+x+1)\n",
    "    \n",
    "    # #Load response and background files\n",
    "    s.response = rmf_file\n",
    "    s.response.arf = mrf_file\n",
    "    s.background = 'ixpe_det%i_bkg_Q.pha'%du\n",
    "    \n",
    "    #Load the U data\n",
    "    xspec.AllData(\"%i:%i ixpe_det%i_src_U.pha\"%(du, du+x+2, du))\n",
    "    s = xspec.AllData(du+x+2)\n",
    "    \n",
    "    # #Load response and background files\n",
    "    s.response = rmf_file\n",
    "    s.response.arf = mrf_file\n",
    "    s.background = 'ixpe_det%i_bkg_U.pha'%du\n",
    "    \n",
    "    x+=2\n"
   ]
  },
  {
   "cell_type": "code",
   "execution_count": null,
   "id": "3cc095b4",
   "metadata": {},
   "outputs": [],
   "source": [
    "#Ignore all channels except 2-8keV\n",
    "xspec.AllData.ignore(\"0.0-2.0, 8.0-**\")"
   ]
  },
  {
   "cell_type": "code",
   "execution_count": null,
   "id": "03dbc6a5",
   "metadata": {},
   "outputs": [],
   "source": [
    "model = xspec.Model('constant*tbabs(polconst*powerlaw)')\n",
    "\n",
    "model.polconst.A = 0.05\n",
    "model.polconst.psi = -50\n",
    "model.TBabs.nH = 0.15\n",
    "model.powerlaw.PhoIndex = 2.7\n",
    "model.powerlaw.norm = 0.1"
   ]
  },
  {
   "cell_type": "code",
   "execution_count": null,
   "id": "01b1ff96",
   "metadata": {},
   "outputs": [],
   "source": [
    "m1 = xspec.AllModels(1)\n",
    "m2 = xspec.AllModels(2)\n",
    "m3 = xspec.AllModels(3)\n",
    "\n",
    "m1.constant.factor = 1.0\n",
    "m1.constant.factor.frozen = True\n",
    "m2.constant.factor = 0.8\n",
    "m3.constant.factor = 0.9"
   ]
  },
  {
   "cell_type": "code",
   "execution_count": null,
   "id": "8497d964",
   "metadata": {},
   "outputs": [],
   "source": [
    "xspec.AllModels.show()"
   ]
  },
  {
   "cell_type": "code",
   "execution_count": null,
   "id": "7693581d",
   "metadata": {},
   "outputs": [],
   "source": [
    "xspec.Fit.perform()"
   ]
  },
  {
   "cell_type": "markdown",
   "id": "4788ef02",
   "metadata": {},
   "source": [
    "### 5.5 Plotting the results\n",
    "\n",
    "This is done through `matplotlib`."
   ]
  },
  {
   "cell_type": "code",
   "execution_count": null,
   "id": "4712b2eb",
   "metadata": {},
   "outputs": [],
   "source": [
    "xspec.Plot.area=True\n",
    "xspec.Plot.xAxis='keV'\n",
    "xspec.Plot('lda')\n",
    "yVals=xspec.Plot.y()\n",
    "yErr = xspec.Plot.yErr()\n",
    "xVals = xspec.Plot.x()\n",
    "xErr = xspec.Plot.xErr()\n",
    "mop = xspec.Plot.model()\n",
    "\n",
    "\n",
    "fig, ax = plt.subplots(figsize=(10,6))\n",
    "ax.errorbar(xVals, yVals, xerr=xErr, yerr=yErr, fmt='k.', alpha=0.2)\n",
    "ax.plot(xVals, mop,'r-')\n",
    "ax.set_xlabel('Energy (keV)')\n",
    "ax.set_ylabel(r'counts/cm$^2$/s/keV')\n",
    "ax.set_xscale(\"log\")\n",
    "ax.set_yscale(\"log\")\n"
   ]
  },
  {
   "cell_type": "code",
   "execution_count": null,
   "id": "a2444025",
   "metadata": {},
   "outputs": [],
   "source": [
    "xspec.Plot.area=True\n",
    "xspec.Plot.xAxis='keV'\n",
    "xspec.Plot('polangle')\n",
    "yVals=xspec.Plot.y()\n",
    "yErr = [abs(y) for y in xspec.Plot.yErr()]\n",
    "xVals = xspec.Plot.x()\n",
    "xErr = xspec.Plot.xErr()\n",
    "mop = xspec.Plot.model()\n",
    "\n",
    "\n",
    "fig, ax = plt.subplots(figsize=(10,6))\n",
    "ax.errorbar(xVals, yVals, xerr=xErr, yerr=yErr, fmt='k.', alpha=0.2)\n",
    "ax.plot(xVals, mop,'r-')\n",
    "ax.set_xlabel('Energy (keV)')\n",
    "ax.set_ylabel(r'Polangle')"
   ]
  },
  {
   "cell_type": "markdown",
   "id": "df3b233c",
   "metadata": {},
   "source": [
    "## 6. Interpreting the results from XSPEC\n",
    "\n",
    "There are two parameters of interest in our example. These given by the polarization fraction, A,\n",
    "and polarization angle, $\\psi$. The XSPEC error (or uncertainty) command can be used\n",
    "to deduce confidence intervals for these parameters. \n",
    "\n",
    "We can estimate the 99% confidence interval for these two parameters."
   ]
  },
  {
   "cell_type": "code",
   "execution_count": null,
   "id": "994bd3cc",
   "metadata": {},
   "outputs": [],
   "source": [
    "xspec.Fit.error(\"6.635 3\") #Uncertainty on parameter 3"
   ]
  },
  {
   "cell_type": "code",
   "execution_count": null,
   "id": "6066a8ff",
   "metadata": {},
   "outputs": [],
   "source": [
    "xspec.Fit.error(\"6.635 4\") #Uncertainty on parameter 4"
   ]
  },
  {
   "cell_type": "markdown",
   "id": "518268f5",
   "metadata": {},
   "source": [
    "Of particular interest is the 2-D error contour for the polarization fraction and polarization angle."
   ]
  },
  {
   "cell_type": "code",
   "execution_count": null,
   "id": "22821728",
   "metadata": {},
   "outputs": [],
   "source": [
    "lch = xspec.Xset.logChatter\n",
    "xspec.Xset.logChatter = 20\n",
    "\n",
    "# Create and open a log file for XSPEC output. \n",
    "# This step can sometimes take a few minutes. Please be patient!\n",
    "logFile = xspec.Xset.openLog(\"steppar.txt\")\n",
    "\n",
    "xspec.Fit.steppar(\"3 0.00 0.21 41 4 -90 0 36\")\n",
    "\n",
    "# Close XSPEC's currently opened log file.\n",
    "xspec.Xset.closeLog()"
   ]
  },
  {
   "cell_type": "code",
   "execution_count": null,
   "id": "92a4fcf0",
   "metadata": {},
   "outputs": [],
   "source": [
    "#Plot the results\n",
    "xspec.Plot.area=True\n",
    "xspec.Plot('contour ,,4 1.386, 4.61 9.21 13.81')\n",
    "yVals=xspec.Plot.y()\n",
    "xVals = xspec.Plot.x()\n",
    "zVals = xspec.Plot.z()\n",
    "levelvals = xspec.Plot.contourLevels()\n",
    "statval = xspec.Fit.statistic\n",
    "plt.contour(xVals,yVals,zVals,levelvals)\n",
    "plt.ylabel('Psi (deg)')\n",
    "plt.xlabel('A')\n",
    "plt.errorbar(m1.polconst.A.values[0],m1.polconst.psi.values[0],fmt='+')"
   ]
  },
  {
   "cell_type": "markdown",
   "id": "6a9bca56",
   "metadata": {},
   "source": [
    "Note that the detection is deemed \"highly probable\" (confidence C > 99.9%) as\n",
    "A/$\\sigma$ = 4.123 >\n",
    "$\\sqrt(-2 ln(1- C)$ where $\\sigma$ = 0.01807 as given by XSPEC above. \n",
    "\n",
    "Finally, we can use PIMMS to estimate the Minimum Detectable Polarization (MDP). \n",
    "\n",
    "To do this, we first use XSPEC to determine the (model) flux on the 2-8 keV energy range:"
   ]
  },
  {
   "cell_type": "code",
   "execution_count": null,
   "id": "3552bf43",
   "metadata": {},
   "outputs": [],
   "source": [
    "xspec.AllModels.calcFlux(\"2.0 8.0\")"
   ]
  },
  {
   "cell_type": "markdown",
   "id": "6f12d84d",
   "metadata": {},
   "source": [
    "Then enter the appropriate parameters (power law model with Galactic hydrogen column density\n",
    "$n_H/10^{22}$ = 0.449, photon index $\\Gamma$ = 2.59, \n",
    "and flux (average of three detectors) 8.45 x $10^{-11} erg cm^{-2} s^{-1}$ in the 2-8 keV range) into [PIMMS](https://heasarc.gsfc.nasa.gov/cgi-bin/Tools/w3pimms/w3pimms.pl). \n",
    "\n",
    "PIMMS returns MDP99 of 5.35% for a 100 ks exposure. Scaling by the actual\n",
    "mean of exposure time of 97243 s gives an MDP99 of 5.50% meaning that, for an unpolarized source with these physical parameters, an IXPE observation will return a value A > 0.05 only 1% of the time. \n",
    "\n",
    "This is consistent with the highly probable detection deduced here of a polarization fraction of 7.45$\\pm$1.8%."
   ]
  },
  {
   "cell_type": "markdown",
   "id": "1b9db8cf",
   "metadata": {},
   "source": [
    "## Additional Resources\n",
    "\n",
    "Visit the IXPE [GOF Website](https://heasarc.gsfc.nasa.gov/docs/ixpe/analysis/) and the IXPE [Project Website at MSFC](https://ixpe.msfc.nasa.gov/for_scientists/index.html) for more resources."
   ]
  },
  {
   "cell_type": "code",
   "execution_count": null,
   "id": "d919f24a",
   "metadata": {},
   "outputs": [],
   "source": []
  }
 ],
 "metadata": {
  "kernelspec": {
   "display_name": "Python 3 (ipykernel)",
   "language": "python",
   "name": "python3"
  },
  "language_info": {
   "codemirror_mode": {
    "name": "ipython",
    "version": 3
   },
   "file_extension": ".py",
   "mimetype": "text/x-python",
   "name": "python",
   "nbconvert_exporter": "python",
   "pygments_lexer": "ipython3",
   "version": "3.10.6"
  }
 },
 "nbformat": 4,
 "nbformat_minor": 5
}
