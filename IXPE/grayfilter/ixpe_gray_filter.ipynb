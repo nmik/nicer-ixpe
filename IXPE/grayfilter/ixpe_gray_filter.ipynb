{
 "cells": [
  {
   "cell_type": "markdown",
   "id": "ec42d15c",
   "metadata": {},
   "source": [
    "# Analysing IXPE Data with gray filter\n",
    "<hr style=\"border: 2px solid #fadbac\" />\n",
    "\n",
    "- **Description:** An example on analysing IXPE data with gray filter using heasoftpy.\n",
    "- **Data:** IXPE observation of X-ray binary **Swift J1727.8-1613** (ObsID 02250901).\n",
    "- **References:** Veledina et al. 2023 [here](https://iopscience.iop.org/article/10.3847/2041-8213/ad0781) and Ingram et al. 2024 [here](https://iopscience.iop.org/article/10.3847/1538-4357/ad3faf)\n",
    "- **Requirements:** `heasoftpy`, `xspec`, `matplotlib`\n",
    "\n",
    "<hr style=\"border: 2px solid #fadbac\" />"
   ]
  },
  {
   "cell_type": "markdown",
   "id": "b668808e",
   "metadata": {},
   "source": [
    "## 1. Introduction\n",
    "\n",
    "This notebook is a tutorial on accessing IXPE data on Sciserver and getting started with analysing them. You will learn to download the data, extract the source and background regions and perform spectro-polarimetric fits.\n",
    "\n",
    "It also highly recommended that new users read the IXPE Quick Start Guide ([linked here](https://heasarc.gsfc.nasa.gov/docs/ixpe/analysis/IXPE_quickstart.pdf)) and the recommended practices for statistical treatment of IXPE results [here](https://heasarcdev.gsfc.nasa.gov/docs/ixpe/analysis/IXPE_Stats-Advice.pdf).\n",
    "\n",
    "<div style='color: #333; background: #ffffdf; padding:20px; border: 4px solid #fadbac'>\n",
    "<b>Running On Sciserver:</b><br>\n",
    "When running this notebook inside Sciserver, make sure the HEASARC data drive is mounted when initializing the Sciserver compute container. <a href='https://heasarc.gsfc.nasa.gov/docs/sciserver/'>See details here</a>.\n",
    "<br>\n",
    "Also, this notebook requires <code>heasoftpy</code>, which is available in the (heasoft) conda environment. You should see (heasoft) at the top right of the notebook. If not, click there and select it.\n",
    "\n",
    "<b>Running Outside Sciserver:</b><br>\n",
    "If running outside Sciserver, some changes will be needed, including:<br>\n",
    "&bull; Make sure heasoftpy and heasoft are installed (<a href='https://heasarc.gsfc.nasa.gov/docs/software/lheasoft/'>Download and Install heasoft</a>).<br>\n",
    "&bull; Unlike on Sciserver, where the data is available locally, you will need to download the data to your machine.<br>\n",
    "</div>"
   ]
  },
  {
   "cell_type": "markdown",
   "id": "f5958d5a",
   "metadata": {},
   "source": [
    "## 2. Module Imports\n",
    "We need the following python modules:\n",
    "\n",
    "<div style='color: #333; background: #ffffdf; padding:20px; border: 4px solid #fadbac'>\n",
    "In this example, reprocessing the data is not required. Instead the level 2 data products are sufficient. If you need to reprocess the data, the IXPE tools are available with <code>from heasoftpy import ixpe</code>.\n",
    "</div>"
   ]
  },
  {
   "cell_type": "code",
   "execution_count": 2,
   "id": "72915b0a",
   "metadata": {},
   "outputs": [],
   "source": [
    "import glob\n",
    "import matplotlib.pyplot as plt\n",
    "import heasoftpy as hsp\n",
    "from heasoftpy import ixpe\n",
    "import xspec"
   ]
  },
  {
   "cell_type": "markdown",
   "id": "e3d311db",
   "metadata": {},
   "source": [
    "## 3. Finding the Data \n",
    "\n",
    "On Sciserver, all the HEASARC data ire mounted locally under `/FTP/`, so once we have the path to the data, we can directly access it without the need to download it.\n",
    "\n",
    "For our exploratory data analysis, we will use an observation of the blazar **Swift J1727.8-1613** (ObsID 02250901)"
   ]
  },
  {
   "cell_type": "code",
   "execution_count": 5,
   "id": "8d5e197f",
   "metadata": {},
   "outputs": [],
   "source": [
    "data_path = \"./data/02250901\""
   ]
  },
  {
   "cell_type": "markdown",
   "id": "4c3745de",
   "metadata": {},
   "source": [
    "Check the contents of this folder\n",
    "\n",
    "It should contain the standard IXPE data files, which include:\n",
    "   - `event_l1` and `event_l2`: level 1 and 2 event files, respectively.\n",
    "   - `auxil`: auxiliary data files, such as exposure maps.\n",
    "   - `hk`: house-keeping data such as orbit files etc.\n",
    "    \n",
    "For a complete description of data formats of the level 1, level 2 and calibration data products, see the support documentation on the [IXPE Website](https://heasarc.gsfc.nasa.gov/docs/ixpe/analysis/#supportdoc)"
   ]
  },
  {
   "cell_type": "code",
   "execution_count": 6,
   "id": "a19db35b",
   "metadata": {},
   "outputs": [
    {
     "data": {
      "text/plain": [
       "['./data/02250901/event_l2']"
      ]
     },
     "execution_count": 6,
     "metadata": {},
     "output_type": "execute_result"
    }
   ],
   "source": [
    "glob.glob(f'{data_path}/*')"
   ]
  },
  {
   "cell_type": "markdown",
   "id": "21ec6d2a",
   "metadata": {},
   "source": [
    "## 4. Exploring The Data\n",
    "To Analyze the data within the notebook, we use `heasoftpy`.\n",
    "\n",
    "In the folder for each observation, check for a `README` file. This file is included with a description of known issues (if any) with the processing for that observation.\n",
    "\n",
    "In this *IXPE* example, it is not necessary to reprocess the data. Instead the level 2 data products can be analysed directly. "
   ]
  },
  {
   "cell_type": "code",
   "execution_count": 8,
   "id": "3e44da36",
   "metadata": {},
   "outputs": [
    {
     "data": {
      "text/plain": [
       "['./data/02250901/event_l2/ixpe02250901_det2_evt2_v01.fits',\n",
       " './data/02250901/event_l2/ixpe02250901_det1_evt2_v01.fits',\n",
       " './data/02250901/event_l2/ixpe02250901_det3_evt2_v01.fits']"
      ]
     },
     "execution_count": 8,
     "metadata": {},
     "output_type": "execute_result"
    }
   ],
   "source": [
    "# set some input\n",
    "indir  = data_path\n",
    "obsid  = indir.split('/')[-1] \n",
    "\n",
    "filelist = glob.glob(f'{indir}/event_l2/*.fits')\n",
    "filelist"
   ]
  },
  {
   "cell_type": "markdown",
   "id": "734df29c",
   "metadata": {},
   "source": [
    "We see that there are three files: one event file for each detector. We can examine the structure of these level 2 files."
   ]
  },
  {
   "cell_type": "code",
   "execution_count": 9,
   "id": "d6af70a1",
   "metadata": {},
   "outputs": [
    {
     "name": "stdout",
     "output_type": "stream",
     "text": [
      "  No. Type     EXTNAME      BITPIX Dimensions(columns)      PCOUNT  GCOUNT\n",
      " \n",
      "   0  PRIMARY                  8     0                           0    1\n",
      "   1  BINTABLE EVENTS          8     48(10) 1391495              0    1\n",
      " \n",
      "      Column Name                Format     Dims       Units     TLMIN  TLMAX\n",
      "      1 TRG_ID                     J\n",
      "      2 TIME                       D                   s\n",
      "      3 STATUS                     16X\n",
      "      4 STATUS2                    16X\n",
      "      5 PI                         J                   chan          0      374\n",
      "      6 W_MOM                      E\n",
      "      7 X                          E                   pixel         1      600\n",
      "      8 Y                          E                   pixel         1      600\n",
      "      9 Q                          D\n",
      "     10 U                          D\n",
      " \n",
      "   2  BINTABLE GTI             8     16(2) 29                    0    1\n",
      " \n",
      "      Column Name                Format     Dims       Units     TLMIN  TLMAX\n",
      "      1 START                      D\n",
      "      2 STOP                       D\n",
      " \n",
      "\n"
     ]
    }
   ],
   "source": [
    "det2_fits = filelist[0]\n",
    "det1_fits = filelist[1]\n",
    "det3_fits = filelist[2]\n",
    "\n",
    "#print the file structure for event 1 detector file\n",
    "out = hsp.fstruct(infile=det1_fits).stdout\n",
    "print(out)"
   ]
  },
  {
   "cell_type": "markdown",
   "id": "b68737a4",
   "metadata": {},
   "source": [
    "## 5. Extracting the spectro polarimetric data \n",
    "\n",
    "### 5.1 Defining the Source and Background Regions\n",
    "\n",
    "To obtain the source and background spectra from the Level 2 files, we need to define a source region and background region for the extraction. This can also be done using `ds9`. \n",
    "\n",
    "For the source, we extract a 80\" circle centered on the source.\n",
    "\n",
    "The region files should be independently defined for each telescope; in this example, the source location has the same celestial coordinates within 0.25\" for all three detectors so a single source and a single background region can be used.\n",
    "\n",
    "No background subtraction is necessary for this source due to its very high count rate."
   ]
  },
  {
   "cell_type": "code",
   "execution_count": 10,
   "id": "4433d4cf",
   "metadata": {},
   "outputs": [],
   "source": [
    "f = open(\"src_g.reg\", \"w\")\n",
    "f.write('circle(17:27:42.6438,-16:12:06.561,80.000\")')\n",
    "f.close()"
   ]
  },
  {
   "cell_type": "markdown",
   "id": "10d63bcb",
   "metadata": {},
   "source": [
    "### 5.2 Running the extractor tools\n",
    "\n",
    "The `extractor` tool from FTOOLS, can now be used to extract I,Q and U spectra from IXPE Level 2\n",
    "event lists as shown below. \n",
    "\n",
    "The help for the tool can be displayed using the `hsp.extractor?` command. \n",
    "\n",
    "First, we extract the source I,Q and U spectra "
   ]
  },
  {
   "cell_type": "code",
   "execution_count": 11,
   "id": "0821a177",
   "metadata": {},
   "outputs": [],
   "source": [
    "#Extract source I,Q and U spectra for DU1\n",
    "out = hsp.extractor(filename=det1_fits, binlc=10.0, eventsout='NONE', imgfile='NONE',fitsbinlc='NONE', \n",
    "              phafile= 'ixpe_det1_src_g_.pha',regionfile='src_g.reg', timefile='NONE', stokes='NEFF', \n",
    "              polwcol='W_MOM', tcol='TIME', ecol='PI', xcolf='X', xcolh='X',ycolf='Y', ycolh='Y')\n",
    "if out.returncode != 0:\n",
    "    print(out.stdout)\n",
    "    raise Exception('extractor for det1 failed!')\n",
    "\n",
    "#Extract source I,Q and U spectra for DU2\n",
    "out = hsp.extractor(filename=det2_fits, binlc=10.0, eventsout='NONE', imgfile='NONE',fitsbinlc='NONE', \n",
    "              phafile= 'ixpe_det2_src_g_.pha',regionfile='src_g.reg', timefile='NONE', stokes='NEFF', \n",
    "              polwcol='W_MOM', tcol='TIME', ecol='PI', xcolf='X', xcolh='X',ycolf='Y', ycolh='Y')\n",
    "if out.returncode != 0:\n",
    "    print(out.stdout)\n",
    "    raise Exception('extractor for det2 failed!')\n",
    "\n",
    "#Extract source I,Q and U spectra for DU3\n",
    "out = hsp.extractor(filename=det3_fits, binlc=10.0, eventsout='NONE', imgfile='NONE',fitsbinlc='NONE', \n",
    "              phafile= 'ixpe_det3_src_g_.pha',regionfile='src_g.reg', timefile='NONE', stokes='NEFF', \n",
    "              polwcol='W_MOM', tcol='TIME', ecol='PI', xcolf='X', xcolh='X',ycolf='Y', ycolh='Y')\n",
    "if out.returncode != 0:\n",
    "    print(out.stdout)\n",
    "    raise Exception('extractor for det3 failed!')\n"
   ]
  },
  {
   "cell_type": "markdown",
   "id": "c8638ce7",
   "metadata": {},
   "source": [
    "### 5.3 Obtaining the Response Files\n",
    "\n",
    "For the I spectra, you will need to include the RMF (Response Matrix File), and\n",
    "the ARF (Ancillary Response File). \n",
    "\n",
    "For the Q and U spectra, you will need to include the RMF and MRF (Modulation Response File). The MRF is defined by the product of the energy-dependent modulation factor, $\\mu$(E) and the ARF.\n",
    "\n",
    "The location of the calibration files can be obtained through the `hsp.quzcif` tool. Type in `hsp.quzcif?` to get more information on this function. \n",
    "\n",
    "Note that the output of the `hsp.quzcif` gives the path to more than one file. This is because there are 3 sets of response files, corresponding to the different weighting schemes.\n",
    "\n",
    "- For the 'NEFF' weighting, use 'alpha07_`vv`'.\n",
    "- For the 'SIMPLE' weighting, use 'alpha075simple_`vv`'.\n",
    "- For the 'UNWEIGHTED' version, use '20170101_`vv`'.\n",
    "\n",
    "Where `vv` is the version number of the response files. The use of the latest version of the files is recommended.\n",
    "\n",
    "In following, we use `vv = 02` for the RMF."
   ]
  },
  {
   "cell_type": "code",
   "execution_count": 12,
   "id": "be517455",
   "metadata": {},
   "outputs": [],
   "source": [
    "# get the on-axis rmf\n",
    "res = hsp.quzcif(mission='ixpe', instrument='gpd',detector='DU1',\n",
    "             filter='-', date='-', time='-',expr='-',codename='MATRIX')\n",
    "\n",
    "rmf1 = [x.split()[0] for x in res.output if 'alpha075_02'  in x][0]\n",
    "\n",
    "res = hsp.quzcif(mission='ixpe', instrument='gpd',detector='DU2',\n",
    "             filter='-', date='-', time='-',expr='-',codename='MATRIX')\n",
    "\n",
    "rmf2 = [x.split()[0] for x in res.output if 'alpha075_02'  in x][0]\n",
    "\n",
    "res = hsp.quzcif(mission='ixpe', instrument='gpd',detector='DU3',\n",
    "             filter='-', date='-', time='-',expr='-',codename='MATRIX')\n",
    "\n",
    "rmf3 = [x.split()[0] for x in res.output if 'alpha075_02'  in x][0]"
   ]
  },
  {
   "cell_type": "markdown",
   "id": "72c57b60",
   "metadata": {},
   "source": [
    "For the ARF and MRF files, we choose the files specific to the gray filter. For this, we need to specify ```filter='GRAY'``` and note that the file path is preceded by a prefix 'g_'"
   ]
  },
  {
   "cell_type": "code",
   "execution_count": 13,
   "id": "2816b55f",
   "metadata": {},
   "outputs": [],
   "source": [
    "# get the on-axis arf\n",
    "res = hsp.quzcif(mission='ixpe', instrument='gpd',detector='DU1',\n",
    "             filter='GRAY', date='-', time='-',expr='-',codename='SPECRESP')\n",
    "arf1 = [x.split()[0] for x in res.output if 'g_alpha075_01'  in x][0]\n",
    "\n",
    "res = hsp.quzcif(mission='ixpe', instrument='gpd',detector='DU2',\n",
    "             filter='GRAY', date='-', time='-',expr='-',codename='SPECRESP')\n",
    "arf2 = [x.split()[0] for x in res.output if 'g_alpha075_01'  in x][0]\n",
    "\n",
    "res = hsp.quzcif(mission='ixpe', instrument='gpd',detector='DU3',\n",
    "             filter='GRAY', date='-', time='-',expr='-',codename='SPECRESP')\n",
    "arf3 = [x.split()[0] for x in res.output if 'g_alpha075_01'  in x][0]"
   ]
  },
  {
   "cell_type": "code",
   "execution_count": 15,
   "id": "0077b57b",
   "metadata": {},
   "outputs": [
    {
     "data": {
      "text/plain": [
       "'https://heasarc.gsfc.nasa.gov/FTP/caldb/data/ixpe/gpd/cpf/mrf/ixpe_d3_20170101_g_alpha075_01.mrf'"
      ]
     },
     "execution_count": 15,
     "metadata": {},
     "output_type": "execute_result"
    }
   ],
   "source": [
    "# get the on-axis mrf\n",
    "res = hsp.quzcif(mission='ixpe', instrument='gpd',detector='DU1',\n",
    "             filter='GRAY', date='-', time='-',expr='-',codename='MODSPECRESP')\n",
    "mrf1 = [x.split()[0] for x in res.output if 'g_alpha075_01'  in x][0]\n",
    "\n",
    "res = hsp.quzcif(mission='ixpe', instrument='gpd',detector='DU2',\n",
    "             filter='GRAY', date='-', time='-',expr='-',codename='MODSPECRESP')\n",
    "mrf2 = [x.split()[0] for x in res.output if 'g_alpha075_01'  in x][0]\n",
    "\n",
    "res = hsp.quzcif(mission='ixpe', instrument='gpd',detector='DU3',\n",
    "             filter='GRAY', date='-', time='-',expr='-',codename='MODSPECRESP')\n",
    "mrf3 = [x.split()[0] for x in res.output if 'g_alpha075_01'  in x][0]\n",
    "\n",
    "mrf3"
   ]
  },
  {
   "cell_type": "markdown",
   "id": "337010bd",
   "metadata": {},
   "source": [
    "#### 5.31 A note on generating ARF and MRF using _ixpecalcarf_\n",
    "\n",
    "In this example, we obtain the ARF and MRF files from the HEASARC calibration database, for consistency with the results reported in Veledina et al. 2023. However, we note that the use recently released _ixpecalcarf_ tool is recommended to generate the RMF and MRF files for each observation, as _ixpecalcarf_ correctly accounts for off-axis vignetting and source extraction radius. \n",
    "\n",
    "To use this tool, the spacecraft attitude file, part of the engineering housekeeping file suite retrievable from the “hk” subdirectory in the data archive is required to run this. The resulting Response File is appropriate for an observation in which IXPE has been pointed so that the sky location of the target is at the center of the detector, and a 1.0 source extraction region radius (radius=1.0), and NEFF weighting method (weight=1) have been used to extract the spectrum file. (Other weighting options are weight=0 for UNWEIGHTED and weight=2 for SIMPLE).\n",
    "\n",
    "For more information, please see the Quick start guide, and the _ixpecalcarf_ documentation page. \n",
    "\n",
    "To generate the arf and mrf files suitable to use with a gray filter, the parameter ```detfilter``` must be set to 1 (the default is 0 for the normal filter). e.g: \n",
    "\n",
    "```\n",
    "attfile_d1 = glob.glob(f'{data_path}/hk/ixpe*_det1_att_v*.fits.gz')\n",
    "\n",
    "ixpe.ixpecalcarf(evtfile=det1_fits , attfile=attfile_d1[0], specfile='none', detfilter=1, radius=1.0, arfout='ixpe_det1_src_g.mrf', weight=1, resptype='mrf', clobber='yes')\n",
    "```\n",
    "\n",
    "A similar ixpecalcarf command can be used to generate an ARF for Stokes I spectra by setting resptype=arf."
   ]
  },
  {
   "cell_type": "markdown",
   "id": "03dda413",
   "metadata": {},
   "source": [
    "### 5.4 Load data into PyXSPEC and start fitting "
   ]
  },
  {
   "cell_type": "code",
   "execution_count": 17,
   "id": "380d5df4",
   "metadata": {},
   "outputs": [
    {
     "name": "stdout",
     "output_type": "stream",
     "text": [
      "\n",
      "1 spectrum  in use\n",
      " \n",
      "Spectral Data File: ixpe_det1_src_g_I.pha  Spectrum 1\n",
      "Net count rate (cts/s) for Spectrum:1  5.645e+01 +/- 5.462e-02\n",
      " Assigned to Data Group 1 and Plot Group 1\n",
      "  Noticed Channels:  1-375\n",
      "  Telescope: IXPE Instrument: GPD  Channel Type: PI\n",
      "  Exposure Time: 1.892e+04 sec\n",
      "  Filtering Keys: \n",
      "    Stokes: 0\n",
      " Using fit statistic: chi\n",
      " No response loaded.\n",
      "\n",
      "***Warning!  One or more spectra are missing responses,\n",
      "               and are not suitable for fit.\n",
      "New filename ( \"none\" or \"/*\" to return to the XSPEC prompt): No such file: .rsp\n",
      "New filename ( \"none\" or \"/*\" to return to the XSPEC prompt): No such file: .rsp\n",
      "New filename ( \"none\" or \"/*\" to return to the XSPEC prompt): No such file: .rsp\n",
      "Spectrum 1 has no response for source 1\n"
     ]
    },
    {
     "name": "stderr",
     "output_type": "stream",
     "text": [
      "Error: cannot read response file https://heasarc.gsfc.nasa.gov/FTP/caldb/data/ixpe/gpd/cpf/rmf/ixpe_d1_20170101_alpha075_02.rmf\n",
      "terminated at user request\n"
     ]
    },
    {
     "ename": "Exception",
     "evalue": "Error: No response is assigned to source 1 for spectrum 1",
     "output_type": "error",
     "traceback": [
      "\u001b[0;31m---------------------------------------------------------------------------\u001b[0m",
      "\u001b[0;31mException\u001b[0m                                 Traceback (most recent call last)",
      "Cell \u001b[0;32mIn[17], line 17\u001b[0m\n\u001b[1;32m     15\u001b[0m \u001b[38;5;66;03m# #Load response and background files\u001b[39;00m\n\u001b[1;32m     16\u001b[0m s\u001b[38;5;241m.\u001b[39mresponse \u001b[38;5;241m=\u001b[39m rmf_file\n\u001b[0;32m---> 17\u001b[0m \u001b[43ms\u001b[49m\u001b[38;5;241;43m.\u001b[39;49m\u001b[43mresponse\u001b[49m\u001b[38;5;241m.\u001b[39marf \u001b[38;5;241m=\u001b[39m arf_file\n\u001b[1;32m     18\u001b[0m \u001b[38;5;66;03m#s.background = 'ixpe_det%i_bkg_I.pha'%du\u001b[39;00m\n\u001b[1;32m     19\u001b[0m \n\u001b[1;32m     20\u001b[0m \u001b[38;5;66;03m#Load the Q data\u001b[39;00m\n\u001b[1;32m     21\u001b[0m xspec\u001b[38;5;241m.\u001b[39mAllData(\u001b[38;5;124m\"\u001b[39m\u001b[38;5;132;01m%i\u001b[39;00m\u001b[38;5;124m:\u001b[39m\u001b[38;5;132;01m%i\u001b[39;00m\u001b[38;5;124m ixpe_det\u001b[39m\u001b[38;5;132;01m%i\u001b[39;00m\u001b[38;5;124m_src_g_Q.pha\u001b[39m\u001b[38;5;124m\"\u001b[39m\u001b[38;5;241m%\u001b[39m(du, du\u001b[38;5;241m+\u001b[39mx\u001b[38;5;241m+\u001b[39m\u001b[38;5;241m1\u001b[39m, du))\n",
      "File \u001b[0;32m~/software/heasoft-6.33.2/aarch64-apple-darwin22.6.0/lib/python/xspec/spectrum.py:501\u001b[0m, in \u001b[0;36mSpectrum._getResponse\u001b[0;34m(self)\u001b[0m\n\u001b[1;32m    499\u001b[0m     err\u001b[38;5;241m=\u001b[39m\u001b[38;5;124m\"\u001b[39m\u001b[38;5;124mError: No response is assigned to source 1 for spectrum \u001b[39m\u001b[38;5;124m\"\u001b[39m\n\u001b[1;32m    500\u001b[0m     err \u001b[38;5;241m+\u001b[39m\u001b[38;5;241m=\u001b[39m \u001b[38;5;28mstr\u001b[39m(specNum)\n\u001b[0;32m--> 501\u001b[0m     \u001b[38;5;28;01mraise\u001b[39;00m \u001b[38;5;167;01mException\u001b[39;00m(err)\n\u001b[1;32m    502\u001b[0m \u001b[38;5;28;01mreturn\u001b[39;00m Response(\u001b[38;5;28mself\u001b[39m\u001b[38;5;241m.\u001b[39m__handle,resp)\n",
      "\u001b[0;31mException\u001b[0m: Error: No response is assigned to source 1 for spectrum 1"
     ]
    }
   ],
   "source": [
    "rmf_list = [rmf1,rmf2,rmf3]\n",
    "mrf_list = [mrf1,mrf2,mrf3]\n",
    "arf_list = [arf1,arf2,arf3]\n",
    "du_list = [1,2,3]\n",
    "\n",
    "xspec.AllData.clear()\n",
    "\n",
    "x=0 #factor to get the spectrum numbering right \n",
    "for (du, rmf_file, mrf_file, arf_file) in zip(du_list, rmf_list, mrf_list, arf_list):\n",
    "\n",
    "    #Load the I data\n",
    "    xspec.AllData(\"%i:%i ixpe_det%i_src_g_I.pha\"%(du, du+x, du))\n",
    "    s = xspec.AllData(du+x)\n",
    "    \n",
    "    # #Load response and background files\n",
    "    s.response = rmf_file\n",
    "    s.response.arf = arf_file\n",
    "    #s.background = 'ixpe_det%i_bkg_I.pha'%du\n",
    "    \n",
    "    #Load the Q data\n",
    "    xspec.AllData(\"%i:%i ixpe_det%i_src_g_Q.pha\"%(du, du+x+1, du))\n",
    "    s = xspec.AllData(du+x+1)\n",
    "    \n",
    "    # #Load response and background files\n",
    "    s.response = rmf_file\n",
    "    s.response.arf = mrf_file\n",
    "    #s.background = 'ixpe_det%i_bkg_Q.pha'%du\n",
    "    \n",
    "    #Load the U data\n",
    "    xspec.AllData(\"%i:%i ixpe_det%i_src_g_U.pha\"%(du, du+x+2, du))\n",
    "    s = xspec.AllData(du+x+2)\n",
    "    \n",
    "    # #Load response and background files\n",
    "    s.response = rmf_file\n",
    "    s.response.arf = mrf_file\n",
    "    #s.background = 'ixpe_det%i_bkg_U.pha'%du\n",
    "    \n",
    "    x+=2"
   ]
  },
  {
   "cell_type": "code",
   "execution_count": null,
   "id": "c379e747",
   "metadata": {},
   "outputs": [],
   "source": [
    "#Ignore all channels except 2-8keV\n",
    "xspec.AllData.ignore(\"0.0-2.0, 8.0-**\")"
   ]
  },
  {
   "cell_type": "code",
   "execution_count": null,
   "id": "aa66119a",
   "metadata": {},
   "outputs": [],
   "source": [
    "model = xspec.Model('constant(polconst*powerlaw)')\n",
    "\n",
    "model.polconst.A = 0.04\n",
    "model.polconst.psi = 2.2\n",
    "model.powerlaw.PhoIndex = 1.8\n",
    "model.powerlaw.norm = 34"
   ]
  },
  {
   "cell_type": "code",
   "execution_count": null,
   "id": "a066b725",
   "metadata": {},
   "outputs": [],
   "source": [
    "m1 = xspec.AllModels(1)\n",
    "m2 = xspec.AllModels(2)\n",
    "m3 = xspec.AllModels(3)\n",
    "\n",
    "m1.constant.factor = 1.0\n",
    "m1.constant.factor.frozen = True\n",
    "m2.constant.factor = 0.9\n",
    "m3.constant.factor = 0.9"
   ]
  },
  {
   "cell_type": "code",
   "execution_count": null,
   "id": "c6c1aae7",
   "metadata": {},
   "outputs": [],
   "source": [
    "xspec.AllModels.show()"
   ]
  },
  {
   "cell_type": "code",
   "execution_count": null,
   "id": "77148d5b",
   "metadata": {},
   "outputs": [],
   "source": [
    "xspec.Fit.perform()"
   ]
  },
  {
   "cell_type": "markdown",
   "id": "987efccd",
   "metadata": {},
   "source": [
    "#### 5.4.1 Adjusting the fit\n",
    "As you can see, we are unable to find an acceptable fit when tying the parameters to be identical across detector units. There are likely two effects combining to cause this: This could be due to a known charging effect on the detector gain that depends on the source count rate. Second, the model is over-simplified and so to some extent the gain fit will be fitting real features\n",
    "\n",
    "Thus, we utilize the gain fit command in XSPEC to fit the energy scale."
   ]
  },
  {
   "cell_type": "code",
   "execution_count": null,
   "id": "6dc6f290",
   "metadata": {},
   "outputs": [],
   "source": [
    "r1 = xspec.AllData(1).response\n",
    "r1.gain.slope = 0.94\n",
    "r1.gain.offset =0.05\n",
    "\n",
    "r4 = xspec.AllData(4).response\n",
    "r4.gain.slope = 0.94\n",
    "r4.gain.offset =0.05\n",
    "\n",
    "r7 = xspec.AllData(7).response\n",
    "r7.gain.slope = 0.94\n",
    "r7.gain.offset =0.05\n",
    "\n",
    "xspec.Fit.perform()"
   ]
  },
  {
   "cell_type": "markdown",
   "id": "47e7fef5",
   "metadata": {},
   "source": [
    "### 5.5 Plotting the results\n",
    "\n",
    "This is done through `matplotlib`."
   ]
  },
  {
   "cell_type": "code",
   "execution_count": null,
   "id": "1dc7fd3c",
   "metadata": {},
   "outputs": [],
   "source": [
    "xspec.Plot.area=True\n",
    "xspec.Plot.xAxis='keV'\n",
    "xspec.Plot('lda')\n",
    "yVals=xspec.Plot.y()\n",
    "yErr = xspec.Plot.yErr()\n",
    "xVals = xspec.Plot.x()\n",
    "xErr = xspec.Plot.xErr()\n",
    "mop = xspec.Plot.model()\n",
    "\n",
    "\n",
    "fig, ax = plt.subplots(figsize=(10,6))\n",
    "ax.errorbar(xVals, yVals, xerr=xErr, yerr=yErr, fmt='k.', alpha=0.2)\n",
    "ax.plot(xVals, mop,'r-')\n",
    "ax.set_xlabel('Energy (keV)')\n",
    "ax.set_ylabel(r'counts/cm$^2$/s/keV')\n",
    "ax.set_xscale(\"log\")\n",
    "ax.set_yscale(\"log\")"
   ]
  },
  {
   "cell_type": "code",
   "execution_count": null,
   "id": "347ed478",
   "metadata": {},
   "outputs": [],
   "source": [
    "xspec.Plot.area=True\n",
    "xspec.Plot.xAxis='keV'\n",
    "xspec.Plot('polangle')\n",
    "yVals=xspec.Plot.y()\n",
    "yErr = [abs(y) for y in xspec.Plot.yErr()]\n",
    "xVals = xspec.Plot.x()\n",
    "xErr = xspec.Plot.xErr()\n",
    "mop = xspec.Plot.model()\n",
    "\n",
    "\n",
    "fig, ax = plt.subplots(figsize=(10,6))\n",
    "ax.errorbar(xVals, yVals, xerr=xErr, yerr=yErr, fmt='k.', alpha=0.2)\n",
    "ax.plot(xVals, mop,'r-')\n",
    "ax.set_xlabel('Energy (keV)')\n",
    "ax.set_ylabel(r'Polangle')"
   ]
  },
  {
   "cell_type": "markdown",
   "id": "37f16cf5",
   "metadata": {},
   "source": [
    "## 6. Interpreting the results from XSPEC\n",
    "\n",
    "There are two parameters of interest in our example. These given by the polarization fraction, A,\n",
    "and polarization angle, $\\psi$. The XSPEC error (or uncertainty) command can be used\n",
    "to deduce confidence intervals for these parameters, and 2D error contours can be determined using the steppar command using the same steps as outlined in the Quick start guide."
   ]
  },
  {
   "cell_type": "markdown",
   "id": "7d9e2cbd",
   "metadata": {},
   "source": [
    "## Additional Resources\n",
    "\n",
    "Visit the IXPE [GOF Website](https://heasarc.gsfc.nasa.gov/docs/ixpe/analysis/) and the IXPE [Project Website at MSFC](https://ixpe.msfc.nasa.gov/for_scientists/index.html) for more resources."
   ]
  }
 ],
 "metadata": {
  "kernelspec": {
   "display_name": "Python 3 (ipykernel)",
   "language": "python",
   "name": "python3"
  },
  "language_info": {
   "codemirror_mode": {
    "name": "ipython",
    "version": 3
   },
   "file_extension": ".py",
   "mimetype": "text/x-python",
   "name": "python",
   "nbconvert_exporter": "python",
   "pygments_lexer": "ipython3",
   "version": "3.10.6"
  }
 },
 "nbformat": 4,
 "nbformat_minor": 5
}
